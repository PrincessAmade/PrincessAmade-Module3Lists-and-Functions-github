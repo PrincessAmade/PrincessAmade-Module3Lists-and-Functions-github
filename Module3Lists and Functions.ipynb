{
 "cells": [
  {
   "cell_type": "code",
   "execution_count": 3,
   "id": "34e9751b-7329-49d9-9ef9-49b36c5858a9",
   "metadata": {},
   "outputs": [
    {
     "name": "stdout",
     "output_type": "stream",
     "text": [
      "['mozzarella', 'Cinderella', 'salmonella']\n",
      "['MOZZARELLA', 'Cinderella', 'salmonella']\n",
      "['MOZZARELLA', 'Cinderella']\n"
     ]
    }
   ],
   "source": [
    "things = [\"mozzarella\", \"cinderella\", \"salmonella\"]\n",
    "#Capitalize the element in things that refers to a person\n",
    "person = \"cinderella\"\n",
    "found = person in things\n",
    "\n",
    "if found == True:\n",
    "    things[1] = things[1].capitalize()\n",
    "    print(things)\n",
    "else:\n",
    "    print(\"nothing\")\n",
    "\n",
    "#Capitalize the element in things that refers to a cheesy\n",
    "cheesy = \"mozzarella\"\n",
    "found2 = cheesy in things\n",
    "\n",
    "if found2 == True:\n",
    "    things[0] = things[0].upper()\n",
    "    print(things)\n",
    "else:\n",
    "    print(\"nothing\")\n",
    "\n",
    "#remove the element in things that refers to a disease\n",
    "disease = \"salmonella\"\n",
    "found3 = disease in things\n",
    "\n",
    "if found3 == True:\n",
    "    things.remove(disease)\n",
    "    print(things)\n",
    "else:\n",
    "    print(\"nothing\")"
   ]
  },
  {
   "cell_type": "code",
   "execution_count": 4,
   "id": "e0dfe513-64c2-4a28-b268-e1e6afabe2e7",
   "metadata": {},
   "outputs": [
    {
     "name": "stdout",
     "output_type": "stream",
     "text": [
      "['Harry', 'Ron', 'Hermione']\n"
     ]
    }
   ],
   "source": [
    "#define a function called good\n",
    "def good():\n",
    "    harrypotter_show = ['Harry', 'Ron', 'Hermione']\n",
    "    print(harrypotter_show)\n",
    "good()"
   ]
  },
  {
   "cell_type": "code",
   "execution_count": 5,
   "id": "691c46f3-8e7f-4f58-b125-3abb74f06607",
   "metadata": {},
   "outputs": [
    {
     "name": "stdout",
     "output_type": "stream",
     "text": [
      "5\n"
     ]
    }
   ],
   "source": [
    "#define a generator function to return odd numbers in rang(10)\n",
    "def mygood(first=1, last=10, step=2):\n",
    "    number = first\n",
    "    while number < last:\n",
    "       yield number\n",
    "       number += step\n",
    "#this is to print the third value using the count operator       \n",
    "count = 0\n",
    "for x in mygood():\n",
    "    count += 1\n",
    "    if count == 3:\n",
    "        print (x)\n",
    "        break"
   ]
  },
  {
   "cell_type": "code",
   "execution_count": null,
   "id": "2fc05888-a622-4377-91ae-cc4e67968112",
   "metadata": {},
   "outputs": [],
   "source": []
  }
 ],
 "metadata": {
  "kernelspec": {
   "display_name": "Python 3 (ipykernel)",
   "language": "python",
   "name": "python3"
  },
  "language_info": {
   "codemirror_mode": {
    "name": "ipython",
    "version": 3
   },
   "file_extension": ".py",
   "mimetype": "text/x-python",
   "name": "python",
   "nbconvert_exporter": "python",
   "pygments_lexer": "ipython3",
   "version": "3.12.7"
  }
 },
 "nbformat": 4,
 "nbformat_minor": 5
}
